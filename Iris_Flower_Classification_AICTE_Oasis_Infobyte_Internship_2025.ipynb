{
 "cells": [
  {
   "cell_type": "markdown",
   "id": "c4968818",
   "metadata": {},
   "source": [
    "\n",
    "# 🌸 Iris Flower Classification using Machine Learning\n",
    "\n",
    "Welcome to the Iris Flower Classification project!  \n",
    "This notebook demonstrates a comprehensive approach to training a machine learning model that classifies iris flowers into three species—Setosa, Versicolor, and Virginica—based on their measurements.\n",
    "\n",
    "This project is part of my **AICTE Oasis Infobyte Internship 2025** and highlights my dedication to building high-quality, practical machine learning solutions.\n"
   ]
  },
  {
   "cell_type": "code",
   "execution_count": null,
   "id": "40c302e3",
   "metadata": {},
   "outputs": [],
   "source": [
    "\n",
    "# 📚 Import Required Libraries\n",
    "import pandas as pd\n",
    "import numpy as np\n",
    "import matplotlib.pyplot as plt\n",
    "import seaborn as sns\n",
    "from sklearn.model_selection import train_test_split\n",
    "from sklearn.preprocessing import LabelEncoder\n",
    "from sklearn.ensemble import RandomForestClassifier\n",
    "from sklearn.metrics import accuracy_score, classification_report, confusion_matrix\n"
   ]
  },
  {
   "cell_type": "code",
   "execution_count": null,
   "id": "bcde3eca",
   "metadata": {},
   "outputs": [],
   "source": [
    "\n",
    "# 📥 Load the Dataset\n",
    "df = pd.read_csv(\"iris.csv\")\n",
    "print(\"First 5 rows of the dataset:\")\n",
    "df.head()\n"
   ]
  },
  {
   "cell_type": "code",
   "execution_count": null,
   "id": "1f7f782b",
   "metadata": {},
   "outputs": [],
   "source": [
    "\n",
    "# 🔍 Dataset Overview\n",
    "print(\"Dataset Info:\")\n",
    "print(df.info())\n",
    "print(\"\\nDataset Description:\")\n",
    "print(df.describe())\n"
   ]
  },
  {
   "cell_type": "code",
   "execution_count": null,
   "id": "a60be623",
   "metadata": {},
   "outputs": [],
   "source": [
    "\n",
    "# 🕵️‍♂️ Check for Missing Values\n",
    "print(\"Missing Values in Each Column:\")\n",
    "print(df.isnull().sum())\n"
   ]
  },
  {
   "cell_type": "code",
   "execution_count": null,
   "id": "c18633d1",
   "metadata": {},
   "outputs": [],
   "source": [
    "\n",
    "# 📊 Data Visualization\n",
    "sns.pairplot(df, hue='species')\n",
    "plt.suptitle('Pairplot of Iris Dataset', y=1.02)\n",
    "plt.show()\n"
   ]
  },
  {
   "cell_type": "code",
   "execution_count": null,
   "id": "bc00d1a8",
   "metadata": {},
   "outputs": [],
   "source": [
    "\n",
    "# 🔄 Encode Target Variable\n",
    "le = LabelEncoder()\n",
    "df['species'] = le.fit_transform(df['species'])\n",
    "print(\"Label Encoded Species:\")\n",
    "df.head()\n"
   ]
  },
  {
   "cell_type": "code",
   "execution_count": null,
   "id": "54d13757",
   "metadata": {},
   "outputs": [],
   "source": [
    "\n",
    "# ✂️ Split the Data into Training and Testing Sets\n",
    "X = df.drop('species', axis=1)\n",
    "y = df['species']\n",
    "X_train, X_test, y_train, y_test = train_test_split(X, y, test_size=0.2, random_state=42)\n",
    "print(f\"Training samples: {X_train.shape[0]}\")\n",
    "print(f\"Testing samples: {X_test.shape[0]}\")\n"
   ]
  },
  {
   "cell_type": "code",
   "execution_count": null,
   "id": "6da01bac",
   "metadata": {},
   "outputs": [],
   "source": [
    "\n",
    "# 🚀 Train a RandomForest Classifier\n",
    "model = RandomForestClassifier(n_estimators=100, random_state=42)\n",
    "model.fit(X_train, y_train)\n"
   ]
  },
  {
   "cell_type": "code",
   "execution_count": null,
   "id": "ad76965b",
   "metadata": {},
   "outputs": [],
   "source": [
    "\n",
    "# ✅ Evaluate the Model\n",
    "y_pred = model.predict(X_test)\n",
    "accuracy = accuracy_score(y_test, y_pred)\n",
    "print(f\"Accuracy: {accuracy:.2f}\")\n",
    "print(\"\\nClassification Report:\")\n",
    "print(classification_report(y_test, y_pred, target_names=le.classes_))\n"
   ]
  },
  {
   "cell_type": "code",
   "execution_count": null,
   "id": "009fe90e",
   "metadata": {},
   "outputs": [],
   "source": [
    "\n",
    "# 🔍 Confusion Matrix\n",
    "cm = confusion_matrix(y_test, y_pred)\n",
    "sns.heatmap(cm, annot=True, fmt='d', cmap='Blues', xticklabels=le.classes_, yticklabels=le.classes_)\n",
    "plt.xlabel('Predicted')\n",
    "plt.ylabel('Actual')\n",
    "plt.title('Confusion Matrix')\n",
    "plt.show()\n"
   ]
  },
  {
   "cell_type": "code",
   "execution_count": null,
   "id": "26c737b6",
   "metadata": {},
   "outputs": [],
   "source": [
    "\n",
    "# 💾 Save the Trained Model (Optional)\n",
    "import joblib\n",
    "joblib.dump(model, \"iris_rf_model.joblib\")\n",
    "print(\"Model saved successfully as 'iris_rf_model.joblib'.\")\n"
   ]
  },
  {
   "cell_type": "markdown",
   "id": "2655ca0f",
   "metadata": {},
   "source": [
    "\n",
    "## 🌟 Conclusion\n",
    "\n",
    "This notebook demonstrates a complete end-to-end workflow for iris flower classification using machine learning.  \n",
    "Key highlights:  \n",
    "- Explored and visualized the dataset\n",
    "- Preprocessed and encoded the target variable\n",
    "- Trained and evaluated a RandomForest classifier  \n",
    "- Achieved high accuracy with a clean, professional approach\n",
    "\n",
    "This project showcases my dedication to applying machine learning techniques thoughtfully and effectively as part of the **AICTE Oasis Infobyte Internship 2025**.  \n",
    "\n",
    "Thank you for your time and consideration! 💡\n"
   ]
  }
 ],
 "metadata": {},
 "nbformat": 4,
 "nbformat_minor": 5
}
